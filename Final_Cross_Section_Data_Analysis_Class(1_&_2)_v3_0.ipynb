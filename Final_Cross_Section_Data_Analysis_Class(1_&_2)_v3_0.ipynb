{
  "nbformat": 4,
  "nbformat_minor": 0,
  "metadata": {
    "kernelspec": {
      "display_name": "Python 3",
      "language": "python",
      "name": "python3"
    },
    "language_info": {
      "codemirror_mode": {
        "name": "ipython",
        "version": 3
      },
      "file_extension": ".py",
      "mimetype": "text/x-python",
      "name": "python",
      "nbconvert_exporter": "python",
      "pygments_lexer": "ipython3",
      "version": "3.8.8"
    },
    "colab": {
      "name": "Final_Cross Section Data Analysis - Class(1 & 2)_v3.0.ipynb",
      "provenance": []
    }
  },
  "cells": [
    {
      "cell_type": "markdown",
      "metadata": {
        "id": "vlR-26BlSvYb"
      },
      "source": [
        "# Econometrics - Analysis on Cross Section Data   -->\n",
        "\n",
        "# Class - 1\n",
        "\n",
        "### Dataset --> westbengal.csv"
      ]
    },
    {
      "cell_type": "code",
      "metadata": {
        "id": "DfO_SqfCSvYe"
      },
      "source": [
        "import pandas as pd\n",
        "import pylab as pl\n",
        "import numpy as np\n",
        "import matplotlib.pyplot as plt\n",
        "import seaborn as sns\n",
        "from sklearn import datasets, linear_model\n",
        "from sklearn.metrics import mean_squared_error, r2_score\n",
        "import statsmodels.stats.api as sms\n",
        "import statsmodels.formula.api as smf\n",
        "from statsmodels.iolib import summary2\n",
        "from statsmodels.api import OLS\n",
        "from statsmodels.compat import lzip\n",
        "%matplotlib inline"
      ],
      "execution_count": null,
      "outputs": []
    },
    {
      "cell_type": "code",
      "metadata": {
        "id": "lUS_202NSvYg",
        "outputId": "98e2f6a4-7ce2-4130-81a4-71dbf1839ccb"
      },
      "source": [
        "df = pd.read_csv('.../westbengal.csv')\n",
        "\n",
        "df.head()"
      ],
      "execution_count": null,
      "outputs": [
        {
          "data": {
            "text/html": [
              "<div>\n",
              "<style scoped>\n",
              "    .dataframe tbody tr th:only-of-type {\n",
              "        vertical-align: middle;\n",
              "    }\n",
              "\n",
              "    .dataframe tbody tr th {\n",
              "        vertical-align: top;\n",
              "    }\n",
              "\n",
              "    .dataframe thead th {\n",
              "        text-align: right;\n",
              "    }\n",
              "</style>\n",
              "<table border=\"1\" class=\"dataframe\">\n",
              "  <thead>\n",
              "    <tr style=\"text-align: right;\">\n",
              "      <th></th>\n",
              "      <th>hhid</th>\n",
              "      <th>state</th>\n",
              "      <th>district</th>\n",
              "      <th>sector</th>\n",
              "      <th>hhsize</th>\n",
              "      <th>religion</th>\n",
              "      <th>socialgroup</th>\n",
              "      <th>nchild_l15</th>\n",
              "      <th>nold_ge60</th>\n",
              "      <th>male</th>\n",
              "      <th>female</th>\n",
              "      <th>maxedu</th>\n",
              "      <th>price1</th>\n",
              "      <th>totalexp</th>\n",
              "      <th>percapita</th>\n",
              "      <th>share1</th>\n",
              "    </tr>\n",
              "  </thead>\n",
              "  <tbody>\n",
              "    <tr>\n",
              "      <th>0</th>\n",
              "      <td>72285$1$1$02$2$68</td>\n",
              "      <td>West Bengal</td>\n",
              "      <td>1</td>\n",
              "      <td>Rural</td>\n",
              "      <td>4</td>\n",
              "      <td>Hinduism</td>\n",
              "      <td>Scheduled tribes</td>\n",
              "      <td>0</td>\n",
              "      <td>1</td>\n",
              "      <td>3</td>\n",
              "      <td>1</td>\n",
              "      <td>4</td>\n",
              "      <td>4.553044</td>\n",
              "      <td>14128.640</td>\n",
              "      <td>3532.160</td>\n",
              "      <td>0.080333</td>\n",
              "    </tr>\n",
              "    <tr>\n",
              "      <th>1</th>\n",
              "      <td>72636$2$1$01$1$68</td>\n",
              "      <td>West Bengal</td>\n",
              "      <td>1</td>\n",
              "      <td>Rural</td>\n",
              "      <td>4</td>\n",
              "      <td>Christianity</td>\n",
              "      <td>Scheduled tribes</td>\n",
              "      <td>2</td>\n",
              "      <td>0</td>\n",
              "      <td>2</td>\n",
              "      <td>2</td>\n",
              "      <td>4</td>\n",
              "      <td>4.553044</td>\n",
              "      <td>13429.080</td>\n",
              "      <td>3357.271</td>\n",
              "      <td>0.105964</td>\n",
              "    </tr>\n",
              "    <tr>\n",
              "      <th>2</th>\n",
              "      <td>72285$1$3$02$1$68</td>\n",
              "      <td>West Bengal</td>\n",
              "      <td>1</td>\n",
              "      <td>Rural</td>\n",
              "      <td>3</td>\n",
              "      <td>Hinduism</td>\n",
              "      <td>0</td>\n",
              "      <td>1</td>\n",
              "      <td>0</td>\n",
              "      <td>1</td>\n",
              "      <td>2</td>\n",
              "      <td>4</td>\n",
              "      <td>4.553044</td>\n",
              "      <td>7227.096</td>\n",
              "      <td>2409.032</td>\n",
              "      <td>0.082467</td>\n",
              "    </tr>\n",
              "    <tr>\n",
              "      <th>3</th>\n",
              "      <td>72283$2$1$01$2$68</td>\n",
              "      <td>West Bengal</td>\n",
              "      <td>1</td>\n",
              "      <td>Rural</td>\n",
              "      <td>5</td>\n",
              "      <td>Christianity</td>\n",
              "      <td>0</td>\n",
              "      <td>1</td>\n",
              "      <td>0</td>\n",
              "      <td>2</td>\n",
              "      <td>3</td>\n",
              "      <td>5</td>\n",
              "      <td>4.553044</td>\n",
              "      <td>10154.960</td>\n",
              "      <td>2030.993</td>\n",
              "      <td>0.176268</td>\n",
              "    </tr>\n",
              "    <tr>\n",
              "      <th>4</th>\n",
              "      <td>72615$1$2$01$2$68</td>\n",
              "      <td>West Bengal</td>\n",
              "      <td>1</td>\n",
              "      <td>Rural</td>\n",
              "      <td>5</td>\n",
              "      <td>Hinduism</td>\n",
              "      <td>0</td>\n",
              "      <td>3</td>\n",
              "      <td>0</td>\n",
              "      <td>4</td>\n",
              "      <td>1</td>\n",
              "      <td>4</td>\n",
              "      <td>4.553044</td>\n",
              "      <td>8873.998</td>\n",
              "      <td>1774.800</td>\n",
              "      <td>0.144242</td>\n",
              "    </tr>\n",
              "  </tbody>\n",
              "</table>\n",
              "</div>"
            ],
            "text/plain": [
              "                hhid        state  district sector  hhsize      religion  \\\n",
              "0  72285$1$1$02$2$68  West Bengal         1  Rural       4      Hinduism   \n",
              "1  72636$2$1$01$1$68  West Bengal         1  Rural       4  Christianity   \n",
              "2  72285$1$3$02$1$68  West Bengal         1  Rural       3      Hinduism   \n",
              "3  72283$2$1$01$2$68  West Bengal         1  Rural       5  Christianity   \n",
              "4  72615$1$2$01$2$68  West Bengal         1  Rural       5      Hinduism   \n",
              "\n",
              "        socialgroup  nchild_l15  nold_ge60  male  female  maxedu    price1  \\\n",
              "0  Scheduled tribes           0          1     3       1       4  4.553044   \n",
              "1  Scheduled tribes           2          0     2       2       4  4.553044   \n",
              "2                 0           1          0     1       2       4  4.553044   \n",
              "3                 0           1          0     2       3       5  4.553044   \n",
              "4                 0           3          0     4       1       4  4.553044   \n",
              "\n",
              "    totalexp  percapita    share1  \n",
              "0  14128.640   3532.160  0.080333  \n",
              "1  13429.080   3357.271  0.105964  \n",
              "2   7227.096   2409.032  0.082467  \n",
              "3  10154.960   2030.993  0.176268  \n",
              "4   8873.998   1774.800  0.144242  "
            ]
          },
          "execution_count": 2,
          "metadata": {},
          "output_type": "execute_result"
        }
      ]
    },
    {
      "cell_type": "code",
      "metadata": {
        "id": "0RcLieZbSvYh",
        "outputId": "50594208-b376-4f72-ed9c-6eb135d2dd5a"
      },
      "source": [
        "df.shape"
      ],
      "execution_count": null,
      "outputs": [
        {
          "data": {
            "text/plain": [
              "(9530, 16)"
            ]
          },
          "execution_count": 3,
          "metadata": {},
          "output_type": "execute_result"
        }
      ]
    },
    {
      "cell_type": "code",
      "metadata": {
        "id": "0Vg8aJOGSvYi",
        "outputId": "8612f408-9620-41d8-e6dd-7e41101fd332"
      },
      "source": [
        "df.columns"
      ],
      "execution_count": null,
      "outputs": [
        {
          "data": {
            "text/plain": [
              "Index(['hhid', 'state', 'district', 'sector', 'hhsize', 'religion',\n",
              "       'socialgroup', 'nchild_l15', 'nold_ge60', 'male', 'female', 'maxedu',\n",
              "       'price1', 'totalexp', 'percapita', 'share1'],\n",
              "      dtype='object')"
            ]
          },
          "execution_count": 4,
          "metadata": {},
          "output_type": "execute_result"
        }
      ]
    },
    {
      "cell_type": "code",
      "metadata": {
        "id": "EgzU27xmSvYi",
        "outputId": "31279556-e52a-4d36-e149-2bc36ed101f4"
      },
      "source": [
        "plt.figure(figsize=(16, 8))\n",
        "sns.regplot(x='percapita',y='share1',data=df,color='g',scatter=True,fit_reg=True,marker=\"+\")\n",
        "plt.xlabel(\"Per Capita Expenditure\", size=16)\n",
        "plt.suptitle(\"Cross Section of Households of West Bengal\", size = 18)\n",
        "plt.ylabel(\"Budget Share Expenditure on Food\", size=16)\n",
        "plt.title(\"Expenditure Share on Food vs Per Capita Expenditure\", size=24)"
      ],
      "execution_count": null,
      "outputs": [
        {
          "data": {
            "text/plain": [
              "Text(0.5, 1.0, 'Expenditure Share on Food vs Per Capita Expenditure')"
            ]
          },
          "execution_count": 5,
          "metadata": {},
          "output_type": "execute_result"
        },
        {
          "data": {
            "image/png": "[encoded data removed]",
            "text/plain": [
              "<Figure size 1152x576 with 1 Axes>"
            ]
          },
          "metadata": {
            "needs_background": "light"
          },
          "output_type": "display_data"
        }
      ]
    },
    {
      "cell_type": "code",
      "metadata": {
        "id": "ZHnUrVCWSvYj",
        "outputId": "8786fe46-2b30-4f8f-b97a-a645692dbe77"
      },
      "source": [
        "df1 = df[['percapita','share1']]\n",
        "df1.corr()"
      ],
      "execution_count": null,
      "outputs": [
        {
          "data": {
            "text/html": [
              "<div>\n",
              "<style scoped>\n",
              "    .dataframe tbody tr th:only-of-type {\n",
              "        vertical-align: middle;\n",
              "    }\n",
              "\n",
              "    .dataframe tbody tr th {\n",
              "        vertical-align: top;\n",
              "    }\n",
              "\n",
              "    .dataframe thead th {\n",
              "        text-align: right;\n",
              "    }\n",
              "</style>\n",
              "<table border=\"1\" class=\"dataframe\">\n",
              "  <thead>\n",
              "    <tr style=\"text-align: right;\">\n",
              "      <th></th>\n",
              "      <th>percapita</th>\n",
              "      <th>share1</th>\n",
              "    </tr>\n",
              "  </thead>\n",
              "  <tbody>\n",
              "    <tr>\n",
              "      <th>percapita</th>\n",
              "      <td>1.000000</td>\n",
              "      <td>-0.593781</td>\n",
              "    </tr>\n",
              "    <tr>\n",
              "      <th>share1</th>\n",
              "      <td>-0.593781</td>\n",
              "      <td>1.000000</td>\n",
              "    </tr>\n",
              "  </tbody>\n",
              "</table>\n",
              "</div>"
            ],
            "text/plain": [
              "           percapita    share1\n",
              "percapita   1.000000 -0.593781\n",
              "share1     -0.593781  1.000000"
            ]
          },
          "execution_count": 6,
          "metadata": {},
          "output_type": "execute_result"
        }
      ]
    },
    {
      "cell_type": "markdown",
      "metadata": {
        "id": "eVIGMonwSvYk"
      },
      "source": [
        "# Using Pasty Formula"
      ]
    },
    {
      "cell_type": "code",
      "metadata": {
        "id": "2CfsbFNbSvYk",
        "outputId": "ea46b165-f9ab-4889-ead1-ee67ac309f5a"
      },
      "source": [
        "linm = smf.ols('share1 ~ percapita',df) \n",
        "linmr = linm.fit()\n",
        "print(linmr.summary())"
      ],
      "execution_count": null,
      "outputs": [
        {
          "name": "stdout",
          "output_type": "stream",
          "text": [
            "                            OLS Regression Results                            \n",
            "==============================================================================\n",
            "Dep. Variable:                 share1   R-squared:                       0.353\n",
            "Model:                            OLS   Adj. R-squared:                  0.353\n",
            "Method:                 Least Squares   F-statistic:                     5189.\n",
            "Date:                Sun, 06 Jun 2021   Prob (F-statistic):               0.00\n",
            "Time:                        20:33:22   Log-Likelihood:                 12415.\n",
            "No. Observations:                9530   AIC:                        -2.483e+04\n",
            "Df Residuals:                    9528   BIC:                        -2.481e+04\n",
            "Df Model:                           1                                         \n",
            "Covariance Type:            nonrobust                                         \n",
            "==============================================================================\n",
            "                 coef    std err          t      P>|t|      [0.025      0.975]\n",
            "------------------------------------------------------------------------------\n",
            "Intercept      0.2170      0.001    218.781      0.000       0.215       0.219\n",
            "percapita  -2.506e-05   3.48e-07    -72.033      0.000   -2.57e-05   -2.44e-05\n",
            "==============================================================================\n",
            "Omnibus:                     1959.403   Durbin-Watson:                   1.807\n",
            "Prob(Omnibus):                  0.000   Jarque-Bera (JB):             6907.587\n",
            "Skew:                           1.012   Prob(JB):                         0.00\n",
            "Kurtosis:                       6.647   Cond. No.                     4.20e+03\n",
            "==============================================================================\n",
            "\n",
            "Warnings:\n",
            "[1] Standard Errors assume that the covariance matrix of the errors is correctly specified.\n",
            "[2] The condition number is large, 4.2e+03. This might indicate that there are\n",
            "strong multicollinearity or other numerical problems.\n"
          ]
        }
      ]
    },
    {
      "cell_type": "code",
      "metadata": {
        "id": "IzuNljenSvYl"
      },
      "source": [
        "yhat = linmr.predict()"
      ],
      "execution_count": null,
      "outputs": []
    },
    {
      "cell_type": "code",
      "metadata": {
        "id": "Kia3Lt3lSvYm"
      },
      "source": [
        "y = df['share1']\n",
        "res = y - yhat"
      ],
      "execution_count": null,
      "outputs": []
    },
    {
      "cell_type": "code",
      "metadata": {
        "id": "Qz8p6G0fSvYm",
        "outputId": "6947803f-2127-49ee-b802-cb70420c4c5c"
      },
      "source": [
        "res"
      ],
      "execution_count": null,
      "outputs": [
        {
          "data": {
            "text/plain": [
              "0      -0.048181\n",
              "1      -0.026932\n",
              "2      -0.074187\n",
              "3       0.010143\n",
              "4      -0.028303\n",
              "          ...   \n",
              "9525   -0.146523\n",
              "9526   -0.141720\n",
              "9527   -0.008140\n",
              "9528   -0.002547\n",
              "9529   -0.063455\n",
              "Name: share1, Length: 9530, dtype: float64"
            ]
          },
          "execution_count": 10,
          "metadata": {},
          "output_type": "execute_result"
        }
      ]
    },
    {
      "cell_type": "code",
      "metadata": {
        "collapsed": true,
        "jupyter": {
          "outputs_hidden": true
        },
        "id": "H5ZzGvQNSvYm",
        "outputId": "ceb68e0e-a4de-4158-a477-e812d918f61c"
      },
      "source": [
        "yhat = pd.Series(yhat)\n",
        "y = pd.DataFrame(y)\n",
        "yhat = pd.DataFrame(yhat)"
      ],
      "execution_count": null,
      "outputs": [
        {
          "data": {
            "text/plain": [
              "pandas.core.frame.DataFrame"
            ]
          },
          "execution_count": 11,
          "metadata": {},
          "output_type": "execute_result"
        }
      ]
    },
    {
      "cell_type": "code",
      "metadata": {
        "id": "if_yG7bCSvYn",
        "outputId": "547436e5-d46c-4c60-c36b-42f0300f4c93"
      },
      "source": [
        "df2 = pd.concat([y,yhat],ignore_index=True)\n",
        "\n",
        "df2.corr()"
      ],
      "execution_count": null,
      "outputs": [
        {
          "data": {
            "text/html": [
              "<div>\n",
              "<style scoped>\n",
              "    .dataframe tbody tr th:only-of-type {\n",
              "        vertical-align: middle;\n",
              "    }\n",
              "\n",
              "    .dataframe tbody tr th {\n",
              "        vertical-align: top;\n",
              "    }\n",
              "\n",
              "    .dataframe thead th {\n",
              "        text-align: right;\n",
              "    }\n",
              "</style>\n",
              "<table border=\"1\" class=\"dataframe\">\n",
              "  <thead>\n",
              "    <tr style=\"text-align: right;\">\n",
              "      <th></th>\n",
              "      <th>share1</th>\n",
              "      <th>0</th>\n",
              "    </tr>\n",
              "  </thead>\n",
              "  <tbody>\n",
              "    <tr>\n",
              "      <th>share1</th>\n",
              "      <td>1.0</td>\n",
              "      <td>NaN</td>\n",
              "    </tr>\n",
              "    <tr>\n",
              "      <th>0</th>\n",
              "      <td>NaN</td>\n",
              "      <td>1.0</td>\n",
              "    </tr>\n",
              "  </tbody>\n",
              "</table>\n",
              "</div>"
            ],
            "text/plain": [
              "        share1    0\n",
              "share1     1.0  NaN\n",
              "0          NaN  1.0"
            ]
          },
          "execution_count": 12,
          "metadata": {},
          "output_type": "execute_result"
        }
      ]
    },
    {
      "cell_type": "code",
      "metadata": {
        "id": "tpsBtwSXSvYo",
        "outputId": "8eb26bfc-dcf9-491f-9985-54e7f512d5ab"
      },
      "source": [
        "x = df[['percapita']]\n",
        "df3 = pd.concat([x,yhat],ignore_index=True)\n",
        "df3.corr()"
      ],
      "execution_count": null,
      "outputs": [
        {
          "data": {
            "text/html": [
              "<div>\n",
              "<style scoped>\n",
              "    .dataframe tbody tr th:only-of-type {\n",
              "        vertical-align: middle;\n",
              "    }\n",
              "\n",
              "    .dataframe tbody tr th {\n",
              "        vertical-align: top;\n",
              "    }\n",
              "\n",
              "    .dataframe thead th {\n",
              "        text-align: right;\n",
              "    }\n",
              "</style>\n",
              "<table border=\"1\" class=\"dataframe\">\n",
              "  <thead>\n",
              "    <tr style=\"text-align: right;\">\n",
              "      <th></th>\n",
              "      <th>percapita</th>\n",
              "      <th>0</th>\n",
              "    </tr>\n",
              "  </thead>\n",
              "  <tbody>\n",
              "    <tr>\n",
              "      <th>percapita</th>\n",
              "      <td>1.0</td>\n",
              "      <td>NaN</td>\n",
              "    </tr>\n",
              "    <tr>\n",
              "      <th>0</th>\n",
              "      <td>NaN</td>\n",
              "      <td>1.0</td>\n",
              "    </tr>\n",
              "  </tbody>\n",
              "</table>\n",
              "</div>"
            ],
            "text/plain": [
              "           percapita    0\n",
              "percapita        1.0  NaN\n",
              "0                NaN  1.0"
            ]
          },
          "execution_count": 13,
          "metadata": {},
          "output_type": "execute_result"
        }
      ]
    },
    {
      "cell_type": "markdown",
      "metadata": {
        "id": "IynIMUneSvYo"
      },
      "source": [
        "# Class - 2\n",
        "\n",
        "### Dataset --> crosssection.csv"
      ]
    },
    {
      "cell_type": "code",
      "metadata": {
        "id": "YcXzhp0GSvYo",
        "outputId": "b1e1949d-3515-4a4a-c860-32e68d50ed7d"
      },
      "source": [
        "df_cs = pd.read_csv('.../crosssection.csv')\n",
        "df_cs.head()"
      ],
      "execution_count": null,
      "outputs": [
        {
          "data": {
            "text/html": [
              "<div>\n",
              "<style scoped>\n",
              "    .dataframe tbody tr th:only-of-type {\n",
              "        vertical-align: middle;\n",
              "    }\n",
              "\n",
              "    .dataframe tbody tr th {\n",
              "        vertical-align: top;\n",
              "    }\n",
              "\n",
              "    .dataframe thead th {\n",
              "        text-align: right;\n",
              "    }\n",
              "</style>\n",
              "<table border=\"1\" class=\"dataframe\">\n",
              "  <thead>\n",
              "    <tr style=\"text-align: right;\">\n",
              "      <th></th>\n",
              "      <th>state</th>\n",
              "      <th>actualmpce</th>\n",
              "      <th>children</th>\n",
              "      <th>adult</th>\n",
              "      <th>wcereal</th>\n",
              "      <th>selfagri</th>\n",
              "      <th>agriandotherlab</th>\n",
              "      <th>selfemnonag</th>\n",
              "      <th>rnd</th>\n",
              "    </tr>\n",
              "  </thead>\n",
              "  <tbody>\n",
              "    <tr>\n",
              "      <th>0</th>\n",
              "      <td>123</td>\n",
              "      <td>103.12600</td>\n",
              "      <td>3.0</td>\n",
              "      <td>2.0</td>\n",
              "      <td>0.155150</td>\n",
              "      <td>0</td>\n",
              "      <td>0</td>\n",
              "      <td>0</td>\n",
              "      <td>55</td>\n",
              "    </tr>\n",
              "    <tr>\n",
              "      <th>1</th>\n",
              "      <td>123</td>\n",
              "      <td>78.50333</td>\n",
              "      <td>1.0</td>\n",
              "      <td>2.0</td>\n",
              "      <td>0.021230</td>\n",
              "      <td>1</td>\n",
              "      <td>0</td>\n",
              "      <td>0</td>\n",
              "      <td>55</td>\n",
              "    </tr>\n",
              "    <tr>\n",
              "      <th>2</th>\n",
              "      <td>123</td>\n",
              "      <td>120.29750</td>\n",
              "      <td>2.0</td>\n",
              "      <td>2.0</td>\n",
              "      <td>0.130925</td>\n",
              "      <td>1</td>\n",
              "      <td>0</td>\n",
              "      <td>0</td>\n",
              "      <td>55</td>\n",
              "    </tr>\n",
              "    <tr>\n",
              "      <th>3</th>\n",
              "      <td>123</td>\n",
              "      <td>206.19800</td>\n",
              "      <td>0.0</td>\n",
              "      <td>5.0</td>\n",
              "      <td>0.257034</td>\n",
              "      <td>1</td>\n",
              "      <td>0</td>\n",
              "      <td>0</td>\n",
              "      <td>55</td>\n",
              "    </tr>\n",
              "    <tr>\n",
              "      <th>4</th>\n",
              "      <td>123</td>\n",
              "      <td>169.05000</td>\n",
              "      <td>0.0</td>\n",
              "      <td>3.0</td>\n",
              "      <td>0.154787</td>\n",
              "      <td>1</td>\n",
              "      <td>0</td>\n",
              "      <td>0</td>\n",
              "      <td>55</td>\n",
              "    </tr>\n",
              "  </tbody>\n",
              "</table>\n",
              "</div>"
            ],
            "text/plain": [
              "   state  actualmpce  children  adult   wcereal  selfagri  agriandotherlab  \\\n",
              "0    123   103.12600       3.0    2.0  0.155150         0                0   \n",
              "1    123    78.50333       1.0    2.0  0.021230         1                0   \n",
              "2    123   120.29750       2.0    2.0  0.130925         1                0   \n",
              "3    123   206.19800       0.0    5.0  0.257034         1                0   \n",
              "4    123   169.05000       0.0    3.0  0.154787         1                0   \n",
              "\n",
              "   selfemnonag  rnd  \n",
              "0            0   55  \n",
              "1            0   55  \n",
              "2            0   55  \n",
              "3            0   55  \n",
              "4            0   55  "
            ]
          },
          "execution_count": 14,
          "metadata": {},
          "output_type": "execute_result"
        }
      ]
    },
    {
      "cell_type": "code",
      "metadata": {
        "id": "3WgvHmdFSvYp",
        "outputId": "7c991234-8c3c-403e-cc4d-a94f717b4fce"
      },
      "source": [
        "df_cs.shape"
      ],
      "execution_count": null,
      "outputs": [
        {
          "data": {
            "text/plain": [
              "(143110, 9)"
            ]
          },
          "execution_count": 15,
          "metadata": {},
          "output_type": "execute_result"
        }
      ]
    },
    {
      "cell_type": "code",
      "metadata": {
        "id": "X54a5G9ySvYp",
        "outputId": "295968a1-e5a1-4518-a2b8-2536c5963313"
      },
      "source": [
        "df_cs['lx1']=np.log(df_cs[['actualmpce']])"
      ],
      "execution_count": null,
      "outputs": [
        {
          "name": "stderr",
          "output_type": "stream",
          "text": [
            "<ipython-input-16-abc408c990c5>:1: RuntimeWarning: divide by zero encountered in log\n",
            "  df_cs['lx1']=np.log(df_cs[['actualmpce']])\n"
          ]
        }
      ]
    },
    {
      "cell_type": "code",
      "metadata": {
        "id": "4-Ensua5SvYp",
        "outputId": "da91e7ac-addd-4d71-c9d5-950eeca7073b"
      },
      "source": [
        "X = df_cs['lx1']\n",
        "X"
      ],
      "execution_count": null,
      "outputs": [
        {
          "data": {
            "text/plain": [
              "0         4.635952\n",
              "1         4.363141\n",
              "2         4.789968\n",
              "3         5.328837\n",
              "4         5.130195\n",
              "            ...   \n",
              "143105    6.201097\n",
              "143106    6.799624\n",
              "143107    6.186147\n",
              "143108    6.125558\n",
              "143109    6.174078\n",
              "Name: lx1, Length: 143110, dtype: float64"
            ]
          },
          "execution_count": 17,
          "metadata": {},
          "output_type": "execute_result"
        }
      ]
    },
    {
      "cell_type": "code",
      "metadata": {
        "id": "lOMWOXTSSvYp",
        "outputId": "11adb953-9308-42b3-a574-525906fddf0e"
      },
      "source": [
        "linm_cs = smf.ols('wcereal ~ lx1',df_cs) \n",
        "linmr_cs = linm_cs.fit()\n",
        "print(linmr_cs.summary())"
      ],
      "execution_count": null,
      "outputs": [
        {
          "name": "stdout",
          "output_type": "stream",
          "text": [
            "                            OLS Regression Results                            \n",
            "==============================================================================\n",
            "Dep. Variable:                wcereal   R-squared:                       0.017\n",
            "Model:                            OLS   Adj. R-squared:                  0.017\n",
            "Method:                 Least Squares   F-statistic:                     2468.\n",
            "Date:                Sun, 06 Jun 2021   Prob (F-statistic):               0.00\n",
            "Time:                        20:33:24   Log-Likelihood:                 73682.\n",
            "No. Observations:              143065   AIC:                        -1.474e+05\n",
            "Df Residuals:                  143063   BIC:                        -1.473e+05\n",
            "Df Model:                           1                                         \n",
            "Covariance Type:            nonrobust                                         \n",
            "==============================================================================\n",
            "                 coef    std err          t      P>|t|      [0.025      0.975]\n",
            "------------------------------------------------------------------------------\n",
            "Intercept      0.4926      0.003    161.118      0.000       0.487       0.499\n",
            "lx1           -0.0247      0.000    -49.678      0.000      -0.026      -0.024\n",
            "==============================================================================\n",
            "Omnibus:                      705.670   Durbin-Watson:                   0.823\n",
            "Prob(Omnibus):                  0.000   Jarque-Bera (JB):              715.844\n",
            "Skew:                           0.173   Prob(JB):                    3.60e-156\n",
            "Kurtosis:                       2.971   Cond. No.                         50.4\n",
            "==============================================================================\n",
            "\n",
            "Warnings:\n",
            "[1] Standard Errors assume that the covariance matrix of the errors is correctly specified.\n"
          ]
        }
      ]
    },
    {
      "cell_type": "code",
      "metadata": {
        "id": "yEoz-Jr5SvYq",
        "outputId": "e7ceb008-f13c-40a9-ae61-45aeedaeb823"
      },
      "source": [
        "mlinm_cs = smf.ols('wcereal ~ lx1+adult+children',df_cs) \n",
        "mlinmr_cs = mlinm_cs.fit()\n",
        "print(mlinmr_cs.summary())"
      ],
      "execution_count": null,
      "outputs": [
        {
          "name": "stdout",
          "output_type": "stream",
          "text": [
            "                            OLS Regression Results                            \n",
            "==============================================================================\n",
            "Dep. Variable:                wcereal   R-squared:                       0.038\n",
            "Model:                            OLS   Adj. R-squared:                  0.038\n",
            "Method:                 Least Squares   F-statistic:                     1715.\n",
            "Date:                Sun, 06 Jun 2021   Prob (F-statistic):               0.00\n",
            "Time:                        20:33:25   Log-Likelihood:                 68754.\n",
            "No. Observations:              130082   AIC:                        -1.375e+05\n",
            "Df Residuals:                  130078   BIC:                        -1.375e+05\n",
            "Df Model:                           3                                         \n",
            "Covariance Type:            nonrobust                                         \n",
            "==============================================================================\n",
            "                 coef    std err          t      P>|t|      [0.025      0.975]\n",
            "------------------------------------------------------------------------------\n",
            "Intercept      0.4306      0.004    118.753      0.000       0.423       0.438\n",
            "lx1           -0.0203      0.001    -34.833      0.000      -0.021      -0.019\n",
            "adult          0.0022      0.000      9.804      0.000       0.002       0.003\n",
            "children       0.0132      0.000     54.578      0.000       0.013       0.014\n",
            "==============================================================================\n",
            "Omnibus:                     1146.704   Durbin-Watson:                   0.776\n",
            "Prob(Omnibus):                  0.000   Jarque-Bera (JB):             1173.109\n",
            "Skew:                           0.230   Prob(JB):                    1.83e-255\n",
            "Kurtosis:                       2.925   Cond. No.                         67.8\n",
            "==============================================================================\n",
            "\n",
            "Warnings:\n",
            "[1] Standard Errors assume that the covariance matrix of the errors is correctly specified.\n"
          ]
        }
      ]
    },
    {
      "cell_type": "markdown",
      "metadata": {
        "id": "HdrKBx4PSvYq"
      },
      "source": [
        "## <span style=\"color:blue\"> || Heteroscedasticity Test --> Breusch Pagan (BP) ||</span>"
      ]
    },
    {
      "cell_type": "code",
      "metadata": {
        "id": "2TgxQOQ7SvYq",
        "outputId": "db47d4e5-ef45-4ba8-aa3d-e3da75c852a4"
      },
      "source": [
        "name = ['Lagrange multiplier statistic (BP) = ', 'p-value = ',\n",
        "        'f-value = ', 'f p-value = ']\n",
        "test = sms.het_breuschpagan(mlinmr_cs.resid, mlinmr_cs.model.exog)\n",
        "lzip(name, test)"
      ],
      "execution_count": null,
      "outputs": [
        {
          "data": {
            "text/plain": [
              "[('Lagrange multiplier statistic (BP) = ', 2975.1248150725346),\n",
              " ('p-value = ', 0.0),\n",
              " ('f-value = ', 1014.8894650845647),\n",
              " ('f p-value = ', 0.0)]"
            ]
          },
          "execution_count": 20,
          "metadata": {},
          "output_type": "execute_result"
        }
      ]
    },
    {
      "cell_type": "markdown",
      "metadata": {
        "id": "QpbhyFsySvYr"
      },
      "source": [
        "### <span style=\"color:green\"> || BP Test Observation --> Heteroscedasticity is present in the data as 'f p-value = ', 0.0) ||</span>"
      ]
    },
    {
      "cell_type": "markdown",
      "metadata": {
        "id": "PuWr-K7aSvYr"
      },
      "source": [
        "## <span style=\"color:blue\"> || Heteroscedasticity Test --> White ||</span>"
      ]
    },
    {
      "cell_type": "code",
      "metadata": {
        "id": "u0RTHbdDSvYr",
        "outputId": "2578a47c-5822-4fa1-bfab-65c73fcc83de"
      },
      "source": [
        "name = ['Lagrange multiplier statistic (BP) = ', 'p-value = ',\n",
        "        'f-value = ', 'f p-value = ']\n",
        "test = sms.het_white(mlinmr_cs.resid, mlinmr_cs.model.exog)\n",
        "lzip(name, test)"
      ],
      "execution_count": null,
      "outputs": [
        {
          "data": {
            "text/plain": [
              "[('Lagrange multiplier statistic (BP) = ', 7932.504364832376),\n",
              " ('p-value = ', 0.0),\n",
              " ('f-value = ', 938.5554810677918),\n",
              " ('f p-value = ', 0.0)]"
            ]
          },
          "execution_count": 21,
          "metadata": {},
          "output_type": "execute_result"
        }
      ]
    },
    {
      "cell_type": "markdown",
      "metadata": {
        "id": "V-hbAb-mSvYr"
      },
      "source": [
        "### <span style=\"color:green\"> || White Test Observation --> Heteroscedasticity is present in the data as 'f p-value = ', 0.0) ||</span>"
      ]
    },
    {
      "cell_type": "markdown",
      "metadata": {
        "id": "0foI9wvdSvYr"
      },
      "source": [
        "## <span style=\"color:blue\"> || Calculating Heteroscedasticity --> Consistent Robuast Standard Error (HC1) ||</span>"
      ]
    },
    {
      "cell_type": "code",
      "metadata": {
        "id": "H8YHsBbVSvYr",
        "outputId": "b8dff3b8-599d-4eb8-ff72-46bbd8bf0dba"
      },
      "source": [
        "mlinmr_cs_robust = mlinmr_cs.get_robustcov_results()\n",
        "print(mlinmr_cs_robust.summary())"
      ],
      "execution_count": null,
      "outputs": [
        {
          "name": "stdout",
          "output_type": "stream",
          "text": [
            "                            OLS Regression Results                            \n",
            "==============================================================================\n",
            "Dep. Variable:                wcereal   R-squared:                       0.038\n",
            "Model:                            OLS   Adj. R-squared:                  0.038\n",
            "Method:                 Least Squares   F-statistic:                     1654.\n",
            "Date:                Sun, 06 Jun 2021   Prob (F-statistic):               0.00\n",
            "Time:                        20:33:26   Log-Likelihood:                 68754.\n",
            "No. Observations:              130082   AIC:                        -1.375e+05\n",
            "Df Residuals:                  130078   BIC:                        -1.375e+05\n",
            "Df Model:                           3                                         \n",
            "Covariance Type:                  HC1                                         \n",
            "==============================================================================\n",
            "                 coef    std err          t      P>|t|      [0.025      0.975]\n",
            "------------------------------------------------------------------------------\n",
            "Intercept      0.4306      0.004     97.616      0.000       0.422       0.439\n",
            "lx1           -0.0203      0.001    -29.615      0.000      -0.022      -0.019\n",
            "adult          0.0022      0.000      9.738      0.000       0.002       0.003\n",
            "children       0.0132      0.000     53.140      0.000       0.013       0.014\n",
            "==============================================================================\n",
            "Omnibus:                     1146.704   Durbin-Watson:                   0.776\n",
            "Prob(Omnibus):                  0.000   Jarque-Bera (JB):             1173.109\n",
            "Skew:                           0.230   Prob(JB):                    1.83e-255\n",
            "Kurtosis:                       2.925   Cond. No.                         67.8\n",
            "==============================================================================\n",
            "\n",
            "Warnings:\n",
            "[1] Standard Errors are heteroscedasticity robust (HC1)\n"
          ]
        }
      ]
    },
    {
      "cell_type": "markdown",
      "metadata": {
        "id": "eBrR22J9SvYs"
      },
      "source": [
        "### <span style=\"color:green\"> || After Applying HC1 - Observation ||</span>\n",
        "\n",
        "### Without HC1  -->\n",
        "![image.png](attachment:c8c0f156-e87e-4ae4-8bb0-f2d777575bdf.png)\n",
        "\n",
        "### With HC1   -->\n",
        "![image.png](attachment:3965200e-f389-4ba1-affe-ddfefb559e69.png)"
      ]
    },
    {
      "cell_type": "code",
      "metadata": {
        "id": "-TquePi2SvYs"
      },
      "source": [
        ""
      ],
      "execution_count": null,
      "outputs": []
    }
  ]
}